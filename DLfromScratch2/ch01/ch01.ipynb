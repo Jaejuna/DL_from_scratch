{
 "cells": [
  {
   "cell_type": "code",
   "execution_count": 7,
   "metadata": {},
   "outputs": [
    {
     "name": "stdout",
     "output_type": "stream",
     "text": [
      "(3,) 1\n",
      "(2, 3) 2\n"
     ]
    }
   ],
   "source": [
    "#벡터와 행렬\n",
    "import numpy as np\n",
    "\n",
    "x = np.array([1,2,3])\n",
    "x.__class__\n",
    "print(x.shape, x.ndim)  #행렬수와 차원수 출력\n",
    "\n",
    "W = np.array([[1,2,3],[4,5,6]])\n",
    "print(W.shape, W.ndim)  #행렬수와 차원수 출력\n"
   ]
  },
  {
   "cell_type": "code",
   "execution_count": 11,
   "metadata": {},
   "outputs": [
    {
     "name": "stdout",
     "output_type": "stream",
     "text": [
      "[[ 1  3  5]\n",
      " [ 7  9 11]] \n",
      "\n",
      " [[ 0  2  6]\n",
      " [12 20 30]]\n"
     ]
    }
   ],
   "source": [
    "#행렬의 원소별 연산\n",
    "W = np.array([[1,2,3], [4,5,6]])\n",
    "X = np.array([[0,1,2], [3,4,5]])\n",
    "print(W+X,\"\\n\\n\", W*X)     #행렬 합과 행렬 곱 연산"
   ]
  },
  {
   "cell_type": "code",
   "execution_count": 15,
   "metadata": {},
   "outputs": [
    {
     "name": "stdout",
     "output_type": "stream",
     "text": [
      "[[10 20 30]\n",
      " [40 50 60]]\n",
      "[[ 10  60]\n",
      " [ 40 100]]\n"
     ]
    }
   ],
   "source": [
    "#브로드캐스트 -> 형상이 다른 배열끼리의 연산\n",
    "W = np.array([[1,2,3], [4,5,6]])\n",
    "print(W * 10)\n",
    "\n",
    "W = np.array([[1,3], [4,5]])\n",
    "X = np.array([10,20])\n",
    "print(W * X)\n"
   ]
  },
  {
   "cell_type": "code",
   "execution_count": 20,
   "metadata": {},
   "outputs": [
    {
     "name": "stdout",
     "output_type": "stream",
     "text": [
      "8\n",
      "[[10  9]\n",
      " [31 24]]\n"
     ]
    }
   ],
   "source": [
    "#백터의 내적과 행렬의 곱\n",
    "##벡터의 내적\n",
    "A = np.array([1,2,3])\n",
    "B = np.array([0,1,2])\n",
    "print(np.dot(A, B))\n",
    "\n",
    "##행렬의 곱 -> 행렬의 형상에 주의\n",
    "W = np.array([[1,2], [4,5]])\n",
    "X = np.array([[4,1], [3,4]])\n",
    "print(np.matmul(W, X)) "
   ]
  },
  {
   "cell_type": "code",
   "execution_count": null,
   "metadata": {},
   "outputs": [],
   "source": []
  }
 ],
 "metadata": {
  "kernelspec": {
   "display_name": "Python 3.7.4 64-bit",
   "language": "python",
   "name": "python3"
  },
  "language_info": {
   "codemirror_mode": {
    "name": "ipython",
    "version": 3
   },
   "file_extension": ".py",
   "mimetype": "text/x-python",
   "name": "python",
   "nbconvert_exporter": "python",
   "pygments_lexer": "ipython3",
   "version": "3.7.4"
  },
  "orig_nbformat": 4,
  "vscode": {
   "interpreter": {
    "hash": "949777d72b0d2535278d3dc13498b2535136f6dfe0678499012e853ee9abcab1"
   }
  }
 },
 "nbformat": 4,
 "nbformat_minor": 2
}
