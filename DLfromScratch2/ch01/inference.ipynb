{
 "cells": [
  {
   "cell_type": "code",
   "execution_count": 10,
   "metadata": {},
   "outputs": [],
   "source": [
    "#시그모이드 계층\n",
    "import numpy as np\n",
    "\n",
    "class Sigmoid :\n",
    "    def __init__(self):\n",
    "        self.params = []    #가중치, 편향 등 매개변수를 담는 리스트\n",
    "\n",
    "    def forward(self, x):\n",
    "        return 1 / (1 + np.exp(-x))     #순전파를 시그모이드 함수로 구현"
   ]
  },
  {
   "cell_type": "code",
   "execution_count": 16,
   "metadata": {},
   "outputs": [],
   "source": [
    "#Affine 계층\n",
    "class Affine :\n",
    "    def __init__(self, W, b):\n",
    "        self.params = [W, b]\n",
    "\n",
    "    def forward(self, x):\n",
    "        W, b = self.params\n",
    "        out = np.matmul(x, W) + b\n",
    "        return out"
   ]
  },
  {
   "cell_type": "code",
   "execution_count": 14,
   "metadata": {},
   "outputs": [],
   "source": [
    "#2층 짜리 신경망 구현, Affine -> Sigmoid -> Affine 순\n",
    "class TwoLayerNet:\n",
    "    def __init__(self, input_size, hidden_size, output_size):\n",
    "        I, H, O = input_size, hidden_size, output_size\n",
    "        \n",
    "        # 가중치와 편향 초기화\n",
    "        W1 = np.random.randn(I, H)  \n",
    "        b1 = np.random.randn(H)\n",
    "        W2 = np.random.randn(H, O) \n",
    "        b2 = np.random.randn(O)\n",
    "        \n",
    "        # 레이어 생성\n",
    "        self.layers = [\n",
    "            Affine(W1, b1),\n",
    "            Sigmoid(),\n",
    "            Affine(W2, b2)\n",
    "        ]\n",
    "        \n",
    "        # 모든 가중치를 리스트에 모은다.\n",
    "        self.params = []\n",
    "        for layer in self.layers:\n",
    "            self.params += layer.params\n",
    "        \n",
    "    def predict(self, x):\n",
    "        for layer in self.layers:\n",
    "            x = layer.forward(x) #시그모이드 함수 적용\n",
    "        return x"
   ]
  },
  {
   "cell_type": "code",
   "execution_count": 18,
   "metadata": {},
   "outputs": [
    {
     "name": "stdout",
     "output_type": "stream",
     "text": [
      "[[ 0.80622395  1.23372034 -2.6277906 ]\n",
      " [ 1.06390857  0.71611162 -2.55684519]\n",
      " [ 0.3581306   1.13775156 -2.4854869 ]\n",
      " [ 0.49031511  1.15709814 -2.51369777]\n",
      " [ 0.73558369  1.65896478 -2.72248187]\n",
      " [ 1.05449377  0.82488603 -2.58541628]\n",
      " [ 0.96874515  1.05772392 -2.62720116]\n",
      " [ 1.12439515  1.06338763 -2.67132845]\n",
      " [ 0.33251676  0.93379046 -2.42742255]\n",
      " [ 0.66898145  1.02406483 -2.5211611 ]]\n"
     ]
    }
   ],
   "source": [
    "# 신경망 추론\n",
    "x = np.random.randn(10, 2)\n",
    "model = TwoLayerNet(2, 4, 3)\n",
    "s = model.predict(x)\n",
    "print(s)"
   ]
  }
 ],
 "metadata": {
  "kernelspec": {
   "display_name": "Python 3.7.4 64-bit",
   "language": "python",
   "name": "python3"
  },
  "language_info": {
   "codemirror_mode": {
    "name": "ipython",
    "version": 3
   },
   "file_extension": ".py",
   "mimetype": "text/x-python",
   "name": "python",
   "nbconvert_exporter": "python",
   "pygments_lexer": "ipython3",
   "version": "3.7.4"
  },
  "orig_nbformat": 4,
  "vscode": {
   "interpreter": {
    "hash": "949777d72b0d2535278d3dc13498b2535136f6dfe0678499012e853ee9abcab1"
   }
  }
 },
 "nbformat": 4,
 "nbformat_minor": 2
}
