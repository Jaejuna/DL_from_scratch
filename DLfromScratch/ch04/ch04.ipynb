{
 "cells": [
  {
   "cell_type": "code",
   "execution_count": 1,
   "metadata": {},
   "outputs": [
    {
     "name": "stdout",
     "output_type": "stream",
     "text": [
      "0.09750000000000003\n",
      "0.5975\n"
     ]
    }
   ],
   "source": [
    "#손실 함수 구현하기\n",
    "# 평균 제곱 오차 Mean Squared Error\n",
    "\n",
    "import numpy as np\n",
    "\n",
    "y = [0.1, 0.05, 0.6, 0.0, 0.05, 0.1, 0.0, 0.1, 0.0, 0.0]\n",
    "t = [0, 0, 1, 0, 0, 0, 0, 0, 0, 0]\n",
    "\n",
    "def mean_squared_error(y, t):\n",
    "  return 0.5 * np.sum((y-t)**2)\n",
    "\n",
    "# 2일 확률이 가장 높다고 추정 (더 낮아야 됌)\n",
    "y = [0.1, 0.05, 0.6, 0.0, 0.05, 0.1, 0.0, 0.1, 0.0, 0.0]\n",
    "print(mean_squared_error(np.array(y), np.array(t)))\n",
    "\n",
    "# 7일 확률이 가장 높다고 추정\n",
    "y = [0.1, 0.05, 0.1, 0.0, 0.05, 0.1, 0.0, 0.6, 0.0, 0.0]\n",
    "print(mean_squared_error(np.array(y), np.array(t)))"
   ]
  },
  {
   "cell_type": "code",
   "execution_count": 2,
   "metadata": {},
   "outputs": [
    {
     "name": "stdout",
     "output_type": "stream",
     "text": [
      "0.510825457099338\n",
      "2.302584092994546\n"
     ]
    }
   ],
   "source": [
    "# 교차 엔트로피 오차 Cross Entrophy Error\n",
    "\n",
    "y = [0.1, 0.05, 0.6, 0.0, 0.05, 0.1, 0.0, 0.1, 0.0, 0.0]\n",
    "t = [0, 0, 1, 0, 0, 0, 0, 0, 0, 0]\n",
    "\n",
    "def cross_entrophy_error(y, t):\n",
    "  delta = 1e-7\n",
    "  return -np.sum(t * np.log (y + delta))\n",
    "\n",
    "# 2일 확률이 가장 높다고 추정 (더 낮아야 됌)\n",
    "y = [0.1, 0.05, 0.6, 0.0, 0.05, 0.1, 0.0, 0.1, 0.0, 0.0]\n",
    "print(cross_entrophy_error(np.array(y), np.array(t)))\n",
    "\n",
    "# 7일 확률이 가장 높다고 추정\n",
    "y = [0.1, 0.05, 0.1, 0.0, 0.05, 0.1, 0.0, 0.6, 0.0, 0.0]\n",
    "print(cross_entrophy_error(np.array(y), np.array(t)))"
   ]
  },
  {
   "cell_type": "code",
   "execution_count": 15,
   "metadata": {},
   "outputs": [
    {
     "name": "stdout",
     "output_type": "stream",
     "text": [
      "Converting train-images-idx3-ubyte.gz to NumPy Array ...\n"
     ]
    },
    {
     "ename": "NameError",
     "evalue": "name 'np' is not defined",
     "output_type": "error",
     "traceback": [
      "\u001b[1;31m---------------------------------------------------------------------------\u001b[0m",
      "\u001b[1;31mNameError\u001b[0m                                 Traceback (most recent call last)",
      "\u001b[1;32mc:\\Users\\JJJ\\git\\LearningDLTool\\DLfromScratch\\ch04\\ch04.ipynb 셀 3\u001b[0m in \u001b[0;36m<cell line: 8>\u001b[1;34m()\u001b[0m\n\u001b[0;32m      <a href='vscode-notebook-cell:/c%3A/Users/JJJ/git/LearningDLTool/DLfromScratch/ch04/ch04.ipynb#W2sZmlsZQ%3D%3D?line=3'>4</a>\u001b[0m \u001b[39mimport\u001b[39;00m \u001b[39mnumpy\u001b[39;00m \u001b[39mas\u001b[39;00m \u001b[39mnp\u001b[39;00m\n\u001b[0;32m      <a href='vscode-notebook-cell:/c%3A/Users/JJJ/git/LearningDLTool/DLfromScratch/ch04/ch04.ipynb#W2sZmlsZQ%3D%3D?line=4'>5</a>\u001b[0m \u001b[39mfrom\u001b[39;00m \u001b[39mdataset\u001b[39;00m\u001b[39m.\u001b[39;00m\u001b[39mmnist\u001b[39;00m \u001b[39mimport\u001b[39;00m load_mnist\n\u001b[0;32m      <a href='vscode-notebook-cell:/c%3A/Users/JJJ/git/LearningDLTool/DLfromScratch/ch04/ch04.ipynb#W2sZmlsZQ%3D%3D?line=6'>7</a>\u001b[0m (x_train, t_train), (x_test, t_test) \u001b[39m=\u001b[39m \\\n\u001b[1;32m----> <a href='vscode-notebook-cell:/c%3A/Users/JJJ/git/LearningDLTool/DLfromScratch/ch04/ch04.ipynb#W2sZmlsZQ%3D%3D?line=7'>8</a>\u001b[0m   load_mnist(normalize\u001b[39m=\u001b[39;49m\u001b[39mTrue\u001b[39;49;00m, one_hot_label\u001b[39m=\u001b[39;49m\u001b[39mTrue\u001b[39;49;00m)\n\u001b[0;32m     <a href='vscode-notebook-cell:/c%3A/Users/JJJ/git/LearningDLTool/DLfromScratch/ch04/ch04.ipynb#W2sZmlsZQ%3D%3D?line=9'>10</a>\u001b[0m \u001b[39mprint\u001b[39m(x_train\u001b[39m.\u001b[39mshape)\n\u001b[0;32m     <a href='vscode-notebook-cell:/c%3A/Users/JJJ/git/LearningDLTool/DLfromScratch/ch04/ch04.ipynb#W2sZmlsZQ%3D%3D?line=10'>11</a>\u001b[0m \u001b[39mprint\u001b[39m(t_train\u001b[39m.\u001b[39mshape)\n",
      "File \u001b[1;32mc:\\Users\\JJJ\\git\\LearningDLTool\\DLfromScratch\\ch04\\..\\dataset\\mnist.py:105\u001b[0m, in \u001b[0;36mload_mnist\u001b[1;34m(normalize, flatten, one_hot_label)\u001b[0m\n\u001b[0;32m     90\u001b[0m \u001b[39m\"\"\"MNIST 데이터셋 읽기\u001b[39;00m\n\u001b[0;32m     91\u001b[0m \u001b[39m\u001b[39;00m\n\u001b[0;32m     92\u001b[0m \u001b[39mParameters\u001b[39;00m\n\u001b[1;32m   (...)\u001b[0m\n\u001b[0;32m    102\u001b[0m \u001b[39m(훈련 이미지, 훈련 레이블), (시험 이미지, 시험 레이블)\u001b[39;00m\n\u001b[0;32m    103\u001b[0m \u001b[39m\"\"\"\u001b[39;00m\n\u001b[0;32m    104\u001b[0m \u001b[39mif\u001b[39;00m \u001b[39mnot\u001b[39;00m os\u001b[39m.\u001b[39mpath\u001b[39m.\u001b[39mexists(save_file):\n\u001b[1;32m--> 105\u001b[0m     init_mnist()\n\u001b[0;32m    107\u001b[0m \u001b[39mwith\u001b[39;00m \u001b[39mopen\u001b[39m(save_file, \u001b[39m'\u001b[39m\u001b[39mrb\u001b[39m\u001b[39m'\u001b[39m) \u001b[39mas\u001b[39;00m f:\n\u001b[0;32m    108\u001b[0m     dataset \u001b[39m=\u001b[39m pickle\u001b[39m.\u001b[39mload(f)\n",
      "File \u001b[1;32mc:\\Users\\JJJ\\git\\LearningDLTool\\DLfromScratch\\ch04\\..\\dataset\\mnist.py:75\u001b[0m, in \u001b[0;36minit_mnist\u001b[1;34m()\u001b[0m\n\u001b[0;32m     73\u001b[0m \u001b[39mdef\u001b[39;00m \u001b[39minit_mnist\u001b[39m():\n\u001b[0;32m     74\u001b[0m     download_mnist()\n\u001b[1;32m---> 75\u001b[0m     dataset \u001b[39m=\u001b[39m _convert_numpy()\n\u001b[0;32m     76\u001b[0m     \u001b[39mprint\u001b[39m(\u001b[39m\"\u001b[39m\u001b[39mCreating pickle file ...\u001b[39m\u001b[39m\"\u001b[39m)\n\u001b[0;32m     77\u001b[0m     \u001b[39mwith\u001b[39;00m \u001b[39mopen\u001b[39m(save_file, \u001b[39m'\u001b[39m\u001b[39mwb\u001b[39m\u001b[39m'\u001b[39m) \u001b[39mas\u001b[39;00m f:\n",
      "File \u001b[1;32mc:\\Users\\JJJ\\git\\LearningDLTool\\DLfromScratch\\ch04\\..\\dataset\\mnist.py:66\u001b[0m, in \u001b[0;36m_convert_numpy\u001b[1;34m()\u001b[0m\n\u001b[0;32m     64\u001b[0m \u001b[39mdef\u001b[39;00m \u001b[39m_convert_numpy\u001b[39m():\n\u001b[0;32m     65\u001b[0m     dataset \u001b[39m=\u001b[39m {}\n\u001b[1;32m---> 66\u001b[0m     dataset[\u001b[39m'\u001b[39m\u001b[39mtrain_img\u001b[39m\u001b[39m'\u001b[39m] \u001b[39m=\u001b[39m  _load_img(key_file[\u001b[39m'\u001b[39;49m\u001b[39mtrain_img\u001b[39;49m\u001b[39m'\u001b[39;49m])\n\u001b[0;32m     67\u001b[0m     dataset[\u001b[39m'\u001b[39m\u001b[39mtrain_label\u001b[39m\u001b[39m'\u001b[39m] \u001b[39m=\u001b[39m _load_label(key_file[\u001b[39m'\u001b[39m\u001b[39mtrain_label\u001b[39m\u001b[39m'\u001b[39m])    \n\u001b[0;32m     68\u001b[0m     dataset[\u001b[39m'\u001b[39m\u001b[39mtest_img\u001b[39m\u001b[39m'\u001b[39m] \u001b[39m=\u001b[39m _load_img(key_file[\u001b[39m'\u001b[39m\u001b[39mtest_img\u001b[39m\u001b[39m'\u001b[39m])\n",
      "File \u001b[1;32mc:\\Users\\JJJ\\git\\LearningDLTool\\DLfromScratch\\ch04\\..\\dataset\\mnist.py:58\u001b[0m, in \u001b[0;36m_load_img\u001b[1;34m(file_name)\u001b[0m\n\u001b[0;32m     56\u001b[0m \u001b[39mprint\u001b[39m(\u001b[39m\"\u001b[39m\u001b[39mConverting \u001b[39m\u001b[39m\"\u001b[39m \u001b[39m+\u001b[39m file_name \u001b[39m+\u001b[39m \u001b[39m\"\u001b[39m\u001b[39m to NumPy Array ...\u001b[39m\u001b[39m\"\u001b[39m)    \n\u001b[0;32m     57\u001b[0m \u001b[39mwith\u001b[39;00m gzip\u001b[39m.\u001b[39mopen(file_path, \u001b[39m'\u001b[39m\u001b[39mrb\u001b[39m\u001b[39m'\u001b[39m) \u001b[39mas\u001b[39;00m f:\n\u001b[1;32m---> 58\u001b[0m         data \u001b[39m=\u001b[39m np\u001b[39m.\u001b[39mfrombuffer(f\u001b[39m.\u001b[39mread(), np\u001b[39m.\u001b[39muint8, offset\u001b[39m=\u001b[39m\u001b[39m16\u001b[39m)\n\u001b[0;32m     59\u001b[0m data \u001b[39m=\u001b[39m data\u001b[39m.\u001b[39mreshape(\u001b[39m-\u001b[39m\u001b[39m1\u001b[39m, img_size)\n\u001b[0;32m     60\u001b[0m \u001b[39mprint\u001b[39m(\u001b[39m\"\u001b[39m\u001b[39mDone\u001b[39m\u001b[39m\"\u001b[39m)\n",
      "\u001b[1;31mNameError\u001b[0m: name 'np' is not defined"
     ]
    }
   ],
   "source": [
    "# 미니배치 학습 p.115\n",
    "import sys, os\n",
    "sys.path.append(os.pardir)\n",
    "import numpy as np\n",
    "from dataset.mnist import load_mnist\n",
    "\n",
    "(x_train, t_train), (x_test, t_test) = \\\n",
    "  load_mnist(normalize=True, one_hot_label=True)\n",
    "\n",
    "print(x_train.shape)\n",
    "print(t_train.shape)\n",
    "\n",
    "train_size = x_train.shape[0]\n",
    "batch_size = 10\n",
    "batch_mask = np.random.choice(train_size, batch_size)\n",
    "x_batch = x_train[batch_mask]\n",
    "t_batch = t_train[batch_mask]"
   ]
  },
  {
   "cell_type": "code",
   "execution_count": 9,
   "metadata": {},
   "outputs": [],
   "source": [
    "# (배치용) 교차 엔트로피 오차 구현하기\n",
    "def cross_entropy_error(y, t):\n",
    "  if y.ndeim == 1:\n",
    "    t = t.reshape(1, t.size)\n",
    "    y = y.reshpae(1, y.size)\n",
    "\n",
    "  batch_size = y.shape[0]\n",
    "  return -np.sum(t * np.log(y + 1e-7)) / batch_size\n",
    "\n",
    "#정답 레이블이 숫자 레이블로 주어졌을 때의 교차 엔트로피\n",
    "# def cross_entropy_error(y, t):\n",
    "#   if y.ndeim == 1:\n",
    "#     t = t.reshape(1, t.size)\n",
    "#     y = y.reshpae(1, y.size)\n",
    "\n",
    "#   batch_size = y.shape[0]\n",
    "#   return -np.sum(np.log(y[np.arange(batch_size), t] + 1e-7)) / batch_size"
   ]
  },
  {
   "cell_type": "code",
   "execution_count": null,
   "metadata": {},
   "outputs": [
    {
     "data": {
      "text/plain": [
       "0.0"
      ]
     },
     "execution_count": 12,
     "metadata": {},
     "output_type": "execute_result"
    }
   ],
   "source": [
    "# 수치 미분 p.121\n",
    "\n",
    "# 미분 구현의 나쁜 예 (반올린 오차)\n",
    "def numerical_diff(f, x):\n",
    "  h = 1e-50\n",
    "  return (f(x + h) - h(x)) / h\n",
    "\n",
    "np.float32(1e-50)"
   ]
  },
  {
   "cell_type": "code",
   "execution_count": 7,
   "metadata": {},
   "outputs": [],
   "source": [
    "# 올바른 예\n",
    "def numerical_diff(f, x):\n",
    "  h = 1e-4 \n",
    "  return (f(x+h)) / (2*h)"
   ]
  },
  {
   "cell_type": "code",
   "execution_count": 10,
   "metadata": {},
   "outputs": [
    {
     "data": {
      "image/png": "[encoded data removed]",
      "text/plain": [
       "<Figure size 432x288 with 1 Axes>"
      ]
     },
     "metadata": {
      "needs_background": "light"
     },
     "output_type": "display_data"
    }
   ],
   "source": [
    "# (간단한)수치 미분 함수 구현 p.124\n",
    "def function_1(x):\n",
    "  return 0.01*x**2 + 0.1*x\n",
    "\n",
    "import numpy as np \n",
    "import matplotlib.pylab as plt\n",
    "\n",
    "x = np.arange(0.0, 20.0, 0.1)\n",
    "y = function_1(x)\n",
    "plt.xlabel(\"x\")\n",
    "plt.plot(x,y)\n",
    "plt.show()\n",
    "\n"
   ]
  },
  {
   "cell_type": "code",
   "execution_count": 11,
   "metadata": {},
   "outputs": [
    {
     "data": {
      "text/plain": [
       "10000.150000499998"
      ]
     },
     "execution_count": 11,
     "metadata": {},
     "output_type": "execute_result"
    }
   ],
   "source": [
    "#x가 5일 때와 10일 때의 함수의 미분\n",
    "numerical_diff(function_1, 5)\n",
    "numerical_diff(function_1, 10)"
   ]
  },
  {
   "cell_type": "code",
   "execution_count": 12,
   "metadata": {},
   "outputs": [],
   "source": [
    "#편미분 \n",
    "def function_2(x):\n",
    "  return x[0]**2 +[1]**2\n",
    "  # 또는 return np.sum(x**2)"
   ]
  },
  {
   "cell_type": "code",
   "execution_count": 13,
   "metadata": {},
   "outputs": [
    {
     "data": {
      "text/plain": [
       "125003.00004999999"
      ]
     },
     "execution_count": 13,
     "metadata": {},
     "output_type": "execute_result"
    }
   ],
   "source": [
    "#편미분 문제 #1\n",
    "def function_tmp1(x0):\n",
    "  return x0*x0 + 4.0**2.0 \n",
    "\n",
    "numerical_diff(function_tmp1, 3.0)\n"
   ]
  }
 ],
 "metadata": {
  "kernelspec": {
   "display_name": "Python 3.9.12 ('base')",
   "language": "python",
   "name": "python3"
  },
  "language_info": {
   "codemirror_mode": {
    "name": "ipython",
    "version": 3
   },
   "file_extension": ".py",
   "mimetype": "text/x-python",
   "name": "python",
   "nbconvert_exporter": "python",
   "pygments_lexer": "ipython3",
   "version": "3.9.12"
  },
  "orig_nbformat": 4,
  "vscode": {
   "interpreter": {
    "hash": "cb54629588be542f54cceed8dab79cd44e9a62f607d03d126f318236f2ef8faf"
   }
  }
 },
 "nbformat": 4,
 "nbformat_minor": 2
}
